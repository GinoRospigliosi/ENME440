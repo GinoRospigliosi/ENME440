{
 "cells": [
  {
   "cell_type": "code",
   "execution_count": 4,
   "metadata": {},
   "outputs": [
    {
     "name": "stdout",
     "output_type": "stream",
     "text": [
      "[138.76189369 208.14402584]\n",
      "tensor([3.0000, 3.1410], requires_grad=True)\n"
     ]
    },
    {
     "data": {
      "text/plain": [
       "tensor([138.7619, 208.1423])"
      ]
     },
     "execution_count": 4,
     "metadata": {},
     "output_type": "execute_result"
    }
   ],
   "source": [
    "#4.\n",
    "import torch \n",
    "import math\n",
    "import numpy as np\n",
    "#Manual Derivative\n",
    "def true_grad(x0,x1):\n",
    "    return np.array([\n",
    "        2*x0*np.exp(x1),\n",
    "        x0*x0*np.exp(x1) + 2*np.cos(x1)*-np.sin(x1)\n",
    "    ])\n",
    "print(true_grad(3,3.141))\n",
    "#Using Backward AD Pytorch\n",
    "x = torch.tensor([3, 3.141], requires_grad=True)\n",
    "print(x)\n",
    "f= x[0]**2*torch.exp(x[1])+torch.cos(x[1])\n",
    "f.backward()\n",
    "x.grad\n",
    "\n",
    "\n"
   ]
  }
 ],
 "metadata": {
  "kernelspec": {
   "display_name": "Python 3",
   "language": "python",
   "name": "python3"
  },
  "language_info": {
   "codemirror_mode": {
    "name": "ipython",
    "version": 3
   },
   "file_extension": ".py",
   "mimetype": "text/x-python",
   "name": "python",
   "nbconvert_exporter": "python",
   "pygments_lexer": "ipython3",
   "version": "3.8.3"
  }
 },
 "nbformat": 4,
 "nbformat_minor": 4
}
