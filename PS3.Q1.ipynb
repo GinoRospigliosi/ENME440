{
 "cells": [
  {
   "cell_type": "markdown",
   "metadata": {},
   "source": [
    "# PS 3\n",
    "## Question 1: Unsupervised Linear Models"
   ]
  },
  {
   "cell_type": "markdown",
   "metadata": {},
   "source": [
    "**Your Name:** Gino Rospigliosi\n",
    "\n",
    "**People I discussed this question with:** None"
   ]
  },
  {
   "cell_type": "markdown",
   "metadata": {},
   "source": [
    "## Toy Dataset\n",
    "For this problem, you will use the data file hb.csv. The input is 2,280 data points, each of which is 7\n",
    "dimensional (i.e., input csv is 2280 rows by 7 columns). Use Principal Component Analysis\n",
    "(either an existing library, or through your own implementation by taking the SVD of the\n",
    "Covariance Matrix) for the follow tasks."
   ]
  },
  {
   "cell_type": "code",
   "execution_count": 64,
   "metadata": {},
   "outputs": [],
   "source": [
    "%matplotlib inline\n",
    "import pandas\n",
    "data = pandas.read_csv('hb.csv',header=None)\n",
    "#data.head()"
   ]
  },
  {
   "cell_type": "markdown",
   "metadata": {},
   "source": [
    "### Task 1\n",
    "Assuming that the 7-dimensional space is excessive, you would like to reduce the dimension of the space. However, what dimensionality of space should we reduce it to? To determine this we need to compute its intrinsic dimensionality. Plot the relative value of the information content of each of the principal components and compare them.\n",
    "\n",
    "Note: this information content is called the “explained variance” of each component, but you can also get this from the magnitude of the singular values. This plot is sometimes called a “Scree Plot”. "
   ]
  },
  {
   "cell_type": "code",
   "execution_count": 71,
   "metadata": {},
   "outputs": [
    {
     "name": "stdout",
     "output_type": "stream",
     "text": [
      "Oringal Data:\n",
      "[[ -7.14   -6.556  -2.047 ...   4.874  -3.164  -6.855]\n",
      " [ -9.427 -22.52   19.141 ...  -3.3     7.729 -17.906]\n",
      " [-15.257 -31.008  22.409 ...  -1.522   7.838 -25.506]\n",
      " ...\n",
      " [  8.403  21.864 -19.883 ...   4.199  -8.427  17.104]\n",
      " [ -2.354 -20.119  27.617 ... -11.003  14.378 -13.729]\n",
      " [-12.604 -30.831  26.728 ...  -4.919  10.953 -24.401]]\n",
      "Singular Value Decomposition:\n",
      "U: (2280, 7)\n",
      "S: (7, 7)\n",
      "V: (7, 7)\n",
      "S =\n",
      "[[1608.236    0.       0.    ...    0.       0.       0.   ]\n",
      " [   0.     869.798    0.    ...    0.       0.       0.   ]\n",
      " [   0.       0.       0.    ...    0.       0.       0.   ]\n",
      " ...\n",
      " [   0.       0.       0.    ...    0.       0.       0.   ]\n",
      " [   0.       0.       0.    ...    0.       0.       0.   ]\n",
      " [   0.       0.       0.    ...    0.       0.       0.   ]]\n",
      "U=\n",
      "[[-0.002 -0.015  0.008 ... -0.036 -0.022 -0.012]\n",
      " [-0.022 -0.011  0.033 ...  0.    -0.006  0.023]\n",
      " [-0.029 -0.021 -0.026 ...  0.005 -0.024 -0.016]\n",
      " ...\n",
      " [ 0.022  0.008 -0.028 ...  0.032 -0.035  0.009]\n",
      " [-0.026  0.006 -0.006 ... -0.02   0.023 -0.016]\n",
      " [-0.031 -0.014  0.026 ...  0.042  0.03   0.018]]\n",
      "U*U.T =\n",
      "[[ 0.003  0.     0.    ... -0.001 -0.    -0.002]\n",
      " [ 0.     0.002 -0.    ... -0.001 -0.     0.002]\n",
      " [ 0.    -0.     0.003 ...  0.001  0.001 -0.001]\n",
      " ...\n",
      " [-0.001 -0.001  0.001 ...  0.004 -0.002 -0.001]\n",
      " [-0.    -0.     0.001 ... -0.002  0.003 -0.   ]\n",
      " [-0.002  0.002 -0.001 ... -0.001 -0.     0.005]]\n",
      "V =\n",
      "[[ 0.128  0.535 -0.621 ...  0.206 -0.302  0.389]\n",
      " [ 0.519  0.351  0.347 ... -0.443  0.338  0.418]\n",
      " [-0.22   0.301 -0.395 ... -0.293  0.616 -0.434]\n",
      " ...\n",
      " [-0.224 -0.473 -0.377 ... -0.647 -0.112  0.39 ]\n",
      " [ 0.498 -0.517 -0.222 ...  0.317  0.348  0.106]\n",
      " [-0.555  0.081  0.354 ...  0.132  0.135  0.425]]\n",
      "Truncated Singular Value Decomposition:\n",
      "Ut=\n",
      "[[-0.002 -0.015]\n",
      " [-0.022 -0.011]\n",
      " [-0.029 -0.021]\n",
      " ...\n",
      " [ 0.022  0.008]\n",
      " [-0.026  0.006]\n",
      " [-0.031 -0.014]]\n",
      "St=\n",
      "[[1608.236    0.   ]\n",
      " [   0.     869.798]]\n",
      "Ut*U.T=\n",
      "[[ 0.     0.     0.    ... -0.    -0.     0.   ]\n",
      " [ 0.     0.001  0.001 ... -0.001  0.001  0.001]\n",
      " [ 0.     0.001  0.001 ... -0.001  0.001  0.001]\n",
      " ...\n",
      " [-0.    -0.001 -0.001 ...  0.001 -0.001 -0.001]\n",
      " [-0.     0.001  0.001 ... -0.001  0.001  0.001]\n",
      " [ 0.     0.001  0.001 ... -0.001  0.001  0.001]]\n",
      "Vt =\n",
      "[[ 0.128  0.535 -0.621 ...  0.206 -0.302  0.389]\n",
      " [ 0.519  0.351  0.347 ... -0.443  0.338  0.418]]\n",
      "Does it produce the same data:\n",
      "U*S*V =\n",
      "[[ -7.14   -6.556  -2.047 ...   4.874  -3.164  -6.855]\n",
      " [ -9.427 -22.52   19.141 ...  -3.3     7.729 -17.906]\n",
      " [-15.257 -31.008  22.409 ...  -1.522   7.838 -25.506]\n",
      " ...\n",
      " [  8.403  21.864 -19.883 ...   4.199  -8.427  17.104]\n",
      " [ -2.354 -20.119  27.617 ... -11.003  14.378 -13.729]\n",
      " [-12.604 -30.831  26.728 ...  -4.919  10.953 -24.401]]\n",
      "Ut*St*Vt =\n",
      "[[ -7.14   -6.556  -2.047 ...   4.874  -3.164  -6.855]\n",
      " [ -9.427 -22.52   19.141 ...  -3.3     7.729 -17.906]\n",
      " [-15.257 -31.008  22.409 ...  -1.522   7.838 -25.506]\n",
      " ...\n",
      " [  8.403  21.864 -19.883 ...   4.199  -8.427  17.104]\n",
      " [ -2.354 -20.119  27.617 ... -11.003  14.378 -13.729]\n",
      " [-12.604 -30.831  26.728 ...  -4.919  10.953 -24.401]]\n",
      "Original Data:\n",
      "[[ -7.14   -6.556  -2.047 ...   4.874  -3.164  -6.855]\n",
      " [ -9.427 -22.52   19.141 ...  -3.3     7.729 -17.906]\n",
      " [-15.257 -31.008  22.409 ...  -1.522   7.838 -25.506]\n",
      " ...\n",
      " [  8.403  21.864 -19.883 ...   4.199  -8.427  17.104]\n",
      " [ -2.354 -20.119  27.617 ... -11.003  14.378 -13.729]\n",
      " [-12.604 -30.831  26.728 ...  -4.919  10.953 -24.401]]\n",
      "True\n"
     ]
    },
    {
     "data": {
      "text/plain": [
       "Text(0.5, 1.0, 'SVD')"
      ]
     },
     "execution_count": 71,
     "metadata": {},
     "output_type": "execute_result"
    },
    {
     "data": {
      "image/png": "[encoded data removed]",
      "text/plain": [
       "<Figure size 432x288 with 1 Axes>"
      ]
     },
     "metadata": {},
     "output_type": "display_data"
    },
    {
     "data": {
      "image/png": "[encoded data removed]",
      "text/plain": [
       "<Figure size 432x288 with 1 Axes>"
      ]
     },
     "metadata": {},
     "output_type": "display_data"
    },
    {
     "data": {
      "image/png": "[encoded data removed]",
      "text/plain": [
       "<Figure size 432x288 with 1 Axes>"
      ]
     },
     "metadata": {},
     "output_type": "display_data"
    }
   ],
   "source": [
    "%matplotlib inline\n",
    "import numpy as np\n",
    "import matplotlib\n",
    "import matplotlib.pyplot as plt\n",
    "from mpl_toolkits.mplot3d import Axes3D\n",
    "from ipywidgets import interact\n",
    "import seaborn as sns\n",
    "sns.set(style=\"darkgrid\")\n",
    "sns.set_palette(\"Set1\", 8, .75)\n",
    "sns.set_color_codes()\n",
    "\n",
    "np.set_printoptions(precision=3)\n",
    "np.set_printoptions(suppress=True)\n",
    "np.set_printoptions(threshold=5)\n",
    "\n",
    "data=np.matrix(data)\n",
    "#Print Original Data\n",
    "print('Oringal Data:'); print(data)\n",
    "\n",
    "#Singular Value Decomposition\n",
    "#X=USV, where U and V are ortogonal and S is diagonal\n",
    "data=np.matrix(data)\n",
    "print('Singular Value Decomposition:')\n",
    "U,s,V = np.linalg.svd(data,full_matrices=False) \n",
    "S = np.diag(s)\n",
    "print('U:', U.shape)\n",
    "print('S:', S.shape) \n",
    "print('V:', V.shape) \n",
    "print('S ='); print(S)\n",
    "print('U='); print(U)\n",
    "print('U*U.T ='); print(U*U.T)\n",
    "print('V ='); print(V)\n",
    "\n",
    "#Truncated Singular Value Decomposition\n",
    "#This is based off zero values in matrix S\n",
    "print('Truncated Singular Value Decomposition:')\n",
    "Ut = U[:,0:2]\n",
    "St = S[:,0:2]\n",
    "St = St[0:2,:]\n",
    "Vt = V[0:2,:]\n",
    "print('Ut='); print(Ut)\n",
    "print('St='); print(St)\n",
    "print('Ut*U.T='); print(Ut*Ut.T)\n",
    "print('Vt ='); print(Vt)\n",
    "\n",
    "#Compare Decomposition to Orignal Data\n",
    "print('Does it produce the same data:')\n",
    "print('U*S*V ='); print(U*S*V)\n",
    "print('Ut*St*Vt ='); print(Ut*St*Vt)\n",
    "print('Original Data:'); print(data);\n",
    "print('True')\n",
    "\n",
    "#Plot Magnitude of Singular Values/Scree Plot/Explained Variance\n",
    "fig = plt.figure(0)\n",
    "plt.plot(np.diag(S),'o-')\n",
    "plt.title(\"Scree Plot\")\n",
    "fig = plt.figure(1)\n",
    "plt.plot(np.diag(St),'o-')\n",
    "plt.title(\"Scree Plot: Truncated\")\n",
    "fig = plt.figure(2)\n",
    "#Plot SVD\n",
    "x=Vt[0,:]\n",
    "X=np.array(x)\n",
    "y=Vt[1,:]\n",
    "Y=np.array(y)\n",
    "plt.scatter(X,Y)\n",
    "plt.title(\"SVD\")"
   ]
  },
  {
   "cell_type": "markdown",
   "metadata": {},
   "source": [
    "**Question:** Approximately how many components dominate the space?, and what does this tell us about the intrinsic dimensionality of the space?\n",
    "\n",
    "**Response**: Approximately 2 components dominate the space, therefore the intrinsic dimensionality of the space is K=2"
   ]
  },
  {
   "cell_type": "markdown",
   "metadata": {},
   "source": [
    "### Task 2\n",
    "Now use PCA to project the 7-dimensional points on the K-dimensional space (where K is your answer from above) and plot the points. (For K=1,2, or 3, use a 1, 2, or 3D plot, respectively. For 4+ dimensions, use a grid of pairwise 2D Plots, like the Scatter Matrix we used in class)."
   ]
  },
  {
   "cell_type": "code",
   "execution_count": 97,
   "metadata": {},
   "outputs": [
    {
     "data": {
      "image/png": "[encoded data removed]",
      "text/plain": [
       "<Figure size 432x288 with 2 Axes>"
      ]
     },
     "metadata": {},
     "output_type": "display_data"
    }
   ],
   "source": [
    "from sklearn.decomposition import PCA\n",
    "def plot_ax(ax,X,title=None):\n",
    "    ax.scatter(X[0].flat, X[1].flat,c='g')\n",
    "    if(title):\n",
    "        plt.title(title)   \n",
    "pca = PCA(n_components=2).fit_transform(data.T)\n",
    "pca = np.matrix([[-0.07,0],[0,-0.1]])*pca.T #Scaling/flipping\n",
    "fig = plt.figure(2)\n",
    "plot_ax(fig.add_subplot(121, aspect='equal'), 4*pcaY, 'PCA')\n",
    "plot_ax(fig.add_subplot(122, aspect='equal'),  4*Vt, 'SVD')\n",
    "plt.show()"
   ]
  },
  {
   "cell_type": "markdown",
   "metadata": {},
   "source": [
    "**Question:** What do you notice?\n",
    "\n",
    "**Response**: SVD and PCA are the same besides scaling and flipping which are dependent on transformation parameters"
   ]
  },
  {
   "cell_type": "markdown",
   "metadata": {},
   "source": [
    "## Topology Optimization Dataset (Required for ENME 743 , Optional for 440)\n",
    "For this problem, you will be using unsupervised linear models to help understand and interpret the results of a mechanical optimization problem. Specifically, to understand the solution space generated by a topology optimization code; that is, the results of finding the optimal geometries for minimizing the compliance of various bridge structures with different loading conditions. The input consists of 1,000 images of optimized material distribution for a beam as described in *Figure 1*. A symmetrical boundary condition, left side, is used to reduce the analysis to only half. Also, a rolling support is included at the lower right corner. Notice that the rolling support is the only support in the vertical direction. \n",
    "\n",
    "&nbsp;\n",
    "\n",
    "![](beam_description.jpg)\n",
    "<center>Figure 1: Left: Nx-by-Ny design domain for topology optimization problem. Right: Example loading configuration and resulting optimal topology. Two external forces, Fi, were applied to the beam at random nodes represented by (xi, yi) coordinates.<sup>1</sup></center>\n",
    "\n",
    "&nbsp;\n",
    "\n",
    "Use Principal Component Analysis (either an existing library, or through your own implementation by taking the SVD of the Covariance Matrix) for the follow tasks.\n",
    "\n",
    "<sup>1. This problems data is based on the problem setup seen in the following paper: Ulu, E., Zhang, R., & Kara, L. B. (2016). A data-driven investigation and estimation of optimal topologies under variable loading configurations. *Computer Methods in Biomechanics and Biomedical Engineering: Imaging & Visualization*, 4(2), 61-72.</sup>"
   ]
  },
  {
   "cell_type": "code",
   "execution_count": 14,
   "metadata": {},
   "outputs": [
    {
     "name": "stdout",
     "output_type": "stream",
     "text": [
      "Image is 217 pixels high and 434 pixels wide\n",
      "[[  0   0   0 ... 255 255 255]\n",
      " [  0   0   0 ... 255 255 255]\n",
      " [  0   0   0 ... 255 255 255]\n",
      " ...\n",
      " [  0   0   0 ...   0   0   0]\n",
      " [  0   0   0 ...   0   0   0]\n",
      " [  0   0   0 ...   0   0   0]]\n"
     ]
    },
    {
     "data": {
      "image/png": "[encoded data removed]",
      "text/plain": [
       "<PIL.Image.Image image mode=L size=434x217 at 0x2197AC69E10>"
      ]
     },
     "execution_count": 14,
     "metadata": {},
     "output_type": "execute_result"
    }
   ],
   "source": [
    "# To help you get started, the below code will load the images from the associated image folder:\n",
    "%matplotlib inline\n",
    "import numpy as np\n",
    "import matplotlib.pyplot as plt\n",
    "import os\n",
    "from PIL import Image\n",
    "\n",
    "im_dir = './topo_opt_runs/'\n",
    "\n",
    "images = []\n",
    "for filename in os.listdir(im_dir):\n",
    "    try:\n",
    "        img = Image.open(im_dir+filename).convert('L')\n",
    "        images.append(np.asarray(img))\n",
    "    except:\n",
    "        pass\n",
    "\n",
    "height,width = images[0].shape\n",
    "print('The images are {:d} pixels high and {:d} pixels wide'.format(height,width))\n",
    "\n",
    "# Print matrix corresponding to the image:\n",
    "print(images[-1])\n",
    "# And show example image, so you can see how matrix correponds:\n",
    "img"
   ]
  },
  {
   "cell_type": "code",
   "execution_count": 13,
   "metadata": {},
   "outputs": [
    {
     "data": {
      "text/plain": [
       "217"
      ]
     },
     "execution_count": 13,
     "metadata": {},
     "output_type": "execute_result"
    }
   ],
   "source": []
  },
  {
   "cell_type": "markdown",
   "metadata": {},
   "source": [
    "### Task 1: Scree/Singular Value Plot\n",
    "As with the toy example, assume that the 94,178-dimensional space is excessive. You would like to reduce the dimension of the image space. First compute its intrinsic dimensionality. Plot the relative value of the information content of each of the principal components and compare them."
   ]
  },
  {
   "cell_type": "code",
   "execution_count": null,
   "metadata": {},
   "outputs": [],
   "source": []
  },
  {
   "cell_type": "markdown",
   "metadata": {},
   "source": [
    "**Question:** Approximately how many components dominate the space? What does this tell us about the intrinsic dimensionality of the space?\n",
    "\n",
    "**Response**:"
   ]
  },
  {
   "cell_type": "code",
   "execution_count": null,
   "metadata": {},
   "outputs": [],
   "source": []
  },
  {
   "cell_type": "markdown",
   "metadata": {},
   "source": [
    "### Task 2: Principal Components\n",
    "Now plot the first 5 principal components.\n",
    "\n",
    "Hint: You will have to generate a One Hot Enconding vector for each principal component. Later, use the function *inverse_transform()* to obtain the image as a vector (length 94,178), which you will have to reshape into the original image dimensions to plot (217 pixels high and 434 pixels wide)."
   ]
  },
  {
   "cell_type": "code",
   "execution_count": null,
   "metadata": {},
   "outputs": [],
   "source": []
  },
  {
   "cell_type": "markdown",
   "metadata": {},
   "source": [
    "**Question:** Looking at each of these top 5 principal components, what does each component represent (physically, in terms of what it means for where material in the bridge is placed)? What is the key difference between the 1st and 2nd principal component? \n",
    "\n",
    "**Response**:"
   ]
  },
  {
   "cell_type": "code",
   "execution_count": null,
   "metadata": {},
   "outputs": [],
   "source": []
  },
  {
   "cell_type": "markdown",
   "metadata": {},
   "source": [
    "### Task 3: Image Reconstruction\n",
    "After the dimensionality reduction has been performed (using the K you find in Task 2), reconstruct the first 5 images from the dataset and plot them against the original images. That is, first, (A) plot the original image itself and then (B) project the original image onto its principal components (i.e., translate from image space to PCA space), and (C) un-project/inverse-transform the PCA coordinates back into image space and plot the resulting image.\n",
    "\n",
    "Hint: The unprojected image should bear some resemblance to the original image but not be 100% the same."
   ]
  },
  {
   "cell_type": "code",
   "execution_count": null,
   "metadata": {},
   "outputs": [],
   "source": []
  },
  {
   "cell_type": "markdown",
   "metadata": {},
   "source": [
    "**Question:** By visual examination, how do the original images compare to those that are reconstructed? Which (if any) parts of the bridge structures in the original images appear harder to reconstruct accurate? Which parts are easier to reconstruct? Why is this?\n",
    "\n",
    "**Response**:"
   ]
  },
  {
   "cell_type": "code",
   "execution_count": null,
   "metadata": {},
   "outputs": [],
   "source": []
  },
  {
   "cell_type": "markdown",
   "metadata": {},
   "source": [
    "### Task 4: Projection Plot\n",
    "Now use PCA to project the images on the 2-dimensional space (the first 2 principal components) and plot a 50 random images. (If you try to plot all the data it will be unwieldy, so just randomly subsample 50 of the datapoints). \n",
    "\n",
    "Hint: Your plot should look similar to something like Figure 2:\n",
    "\n",
    "<img src=\"plot.png\" alt=\"Drawing\" style=\"width: 400px;\"/>\n",
    "<center>Figure 2: Images projected on the reduced 2-dimensional space.</center>\n",
    "\n",
    "&nbsp;\n"
   ]
  },
  {
   "cell_type": "code",
   "execution_count": null,
   "metadata": {},
   "outputs": [],
   "source": [
    "# Your Code here"
   ]
  },
  {
   "cell_type": "markdown",
   "metadata": {},
   "source": [
    "**Question:** One purpose of PCA is to help project similar data near one another, and disimilar points further away. Is this true in this case? Are close images similar or dissimilar in any discernable way? (If so, describe how so.)\n",
    "\n",
    "**Response**:"
   ]
  },
  {
   "cell_type": "markdown",
   "metadata": {},
   "source": [
    "## Appendix: Helpful Plotting Functions\n",
    "The below code demonstrates how to plot images on a 2D plane given coordinates."
   ]
  },
  {
   "cell_type": "code",
   "execution_count": 19,
   "metadata": {},
   "outputs": [
    {
     "data": {
      "text/plain": [
       "(-1, 1)"
      ]
     },
     "execution_count": 19,
     "metadata": {},
     "output_type": "execute_result"
    },
    {
     "data": {
      "image/png": "[encoded data removed]",
      "text/plain": [
       "<matplotlib.figure.Figure at 0x2197b1b90b8>"
      ]
     },
     "metadata": {},
     "output_type": "display_data"
    }
   ],
   "source": [
    "# To help with some of the image plotting on a 2D plane, you can use Offset Image\n",
    "# as shown below, or you can use your own method if you prefer as long as it is clear\n",
    "from matplotlib.offsetbox import AnnotationBbox, OffsetImage\n",
    "# Create Figure and Axis Object\n",
    "fig,ax = plt.subplots(1, 1,figsize=(5,5))\n",
    "# This creates a box that loads an image into it\n",
    "imagebox = OffsetImage(img, zoom=.25,cmap=plt.get_cmap('Greys_r')) \n",
    "# AnnotationBbox lets you place the OffsetImage at a given x,y point on the axis\n",
    "x=0; y=0;\n",
    "ab = AnnotationBbox(imagebox, [x,y], frameon=False,\n",
    "    xybox=(30., -30.),\n",
    "    xycoords='data',\n",
    "    boxcoords=\"offset points\")                                  \n",
    "# Now add the annotation to the axis\n",
    "ax.add_artist(ab)\n",
    "ax.set_ylim([-1,1])\n",
    "ax.set_xlim([-1,1])"
   ]
  }
 ],
 "metadata": {
  "kernelspec": {
   "display_name": "Python 3",
   "language": "python",
   "name": "python3"
  },
  "language_info": {
   "codemirror_mode": {
    "name": "ipython",
    "version": 3
   },
   "file_extension": ".py",
   "mimetype": "text/x-python",
   "name": "python",
   "nbconvert_exporter": "python",
   "pygments_lexer": "ipython3",
   "version": "3.8.3"
  }
 },
 "nbformat": 4,
 "nbformat_minor": 1
}
